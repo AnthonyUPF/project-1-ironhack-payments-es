{
 "cells": [
  {
   "cell_type": "markdown",
   "id": "ae53ead6-9f60-4796-838d-34f91a6977f9",
   "metadata": {},
   "source": [
    "# **Análisis de Calidad de Datos**\n",
    "\n",
    "El análisis de la calidad de datos es una parte fundamental en el proceso de ciencias de datos. Su objetivo es evaluar la integridad, precisión, consistencia y confiabilidad de los datos utilizados en un proyecto o análisis"
   ]
  },
  {
   "cell_type": "markdown",
   "id": "8e6adc87-56d1-465d-a521-82bdfd254d1b",
   "metadata": {},
   "source": [
    "1. **Identificación de valores faltantes:** Este paso implica detectar si hay campos o variables en el conjunto de datos que carecen de valores. Los valores faltantes pueden deberse a diversos motivos, como errores en la entrada de datos, fallas en los sistemas de recolección o simplemente la ausencia de información.\n",
    "\n",
    "2. **Detección de inconsistencias en los datos:** Consiste en buscar discrepancias o contradicciones entre los datos. Por ejemplo, si en un conjunto de datos sobre ventas se encuentra que el número de productos vendidos en un día es mayor que el inventario inicial, esto podría ser una inconsistencia.\n",
    "\n",
    "3. **Identificación de posibles errores:** Esto implica buscar valores atípicos, anomalías o datos que no tienen sentido dentro del contexto del conjunto de datos. Los errores pueden manifestarse de diversas formas, como valores extremadamente altos o bajos que no son representativos del resto de los datos, o datos que violan las restricciones lógicas de un dominio específico.\n",
    "\n",
    "4. **Evaluación de la consistencia y precisión:** Se refiere a verificar si los datos están en concordancia con las expectativas y reglas del dominio del problema. Esto implica comprobar la coherencia de los datos con respecto a las reglas de negocio y los estándares establecidos.\n",
    "\n",
    "5. **Limpieza de datos:** Una vez identificados los problemas de calidad de los datos, se procede a corregirlos o eliminarlos. Esto puede implicar imputar valores faltantes, corregir errores evidentes o eliminar registros que no cumplen con ciertos criterios de calidad."
   ]
  },
  {
   "cell_type": "markdown",
   "id": "3dc7c72d-3405-45fe-8249-2557e878f593",
   "metadata": {},
   "source": [
    "### **llenar valores faltantes**\n",
    "\n",
    "Para llenar valores faltantes en conjuntos de datos tanto cuantitativos como cualitativos, existen varias estrategias comunes que los científicos de datos suelen emplear:\n",
    "\n",
    "\n",
    "- **Valores cuantitativos:**\n",
    "    1. **Imputación por la media o mediana:** Los valores faltantes se reemplazan por la media o mediana de la variable en cuestión. Esta estrategia es simple y efectiva cuando los datos siguen una distribución normal y los valores faltantes son aleatorios.\n",
    "\n",
    "    2. **Imputación por regresión:** Se utiliza un modelo de regresión para predecir los valores faltantes en función de otras variables del conjunto de datos. Esta técnica es útil cuando existe una correlación significativa entre la variable con valores faltantes y otras variables del conjunto de datos.\n",
    "\n",
    "    3. **Métodos basados en vecinos más cercanos (KNN):** Los valores faltantes se imputan utilizando los valores de las observaciones más similares en función de una métrica de distancia. Esta estrategia es útil cuando las observaciones se pueden agrupar en un espacio métrico.\n",
    "\n",
    "    4. **Imputación múltiple:** Se generan múltiples imputaciones para los valores faltantes, teniendo en cuenta la incertidumbre asociada con la imputación. Esta técnica es útil cuando se desea tener en cuenta la variabilidad en los datos imputados.\n",
    "\n",
    "- **Valores cualitativos:**\n",
    "\n",
    "    1. **Moda o valor más frecuente:** Los valores faltantes se reemplazan por el valor más común o moda de la variable categórica. Esta estrategia es simple y efectiva cuando hay una categoría dominante en la variable.\n",
    "\n",
    "    2. **Imputación por regresión logística:** Se utiliza un modelo de regresión logística para predecir la categoría de los valores faltantes en función de otras variables del conjunto de datos.\n",
    "\n",
    "    3. **Muestreo de valores:** Los valores faltantes se imputan seleccionando aleatoriamente valores observados de la misma variable categórica.\n",
    "\n",
    "    4. **Imputación basada en modelos de clasificación:** Se utilizan modelos de clasificación (como árboles de decisión o métodos de clasificación más avanzados) para predecir la categoría de los valores faltantes en función de otras variables predictoras."
   ]
  },
  {
   "cell_type": "code",
   "execution_count": null,
   "id": "9e5968ac-72da-4bf0-8ed8-23b5f1b535fd",
   "metadata": {},
   "outputs": [],
   "source": []
  }
 ],
 "metadata": {
  "kernelspec": {
   "display_name": "Python 3 (ipykernel)",
   "language": "python",
   "name": "python3"
  },
  "language_info": {
   "codemirror_mode": {
    "name": "ipython",
    "version": 3
   },
   "file_extension": ".py",
   "mimetype": "text/x-python",
   "name": "python",
   "nbconvert_exporter": "python",
   "pygments_lexer": "ipython3",
   "version": "3.10.12"
  }
 },
 "nbformat": 4,
 "nbformat_minor": 5
}
